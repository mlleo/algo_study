{
 "cells": [
  {
   "cell_type": "markdown",
   "metadata": {},
   "source": [
    "<h1>Integer</h1>"
   ]
  },
  {
   "cell_type": "code",
   "execution_count": 1,
   "metadata": {},
   "outputs": [
    {
     "name": "stdout",
     "output_type": "stream",
     "text": [
      "1000\n",
      "-7\n",
      "0\n"
     ]
    }
   ],
   "source": [
    "a = 1000\n",
    "print(a)\n",
    "\n",
    "a = -7\n",
    "print(a)\n",
    "\n",
    "a = 0\n",
    "print(a)"
   ]
  },
  {
   "cell_type": "markdown",
   "metadata": {},
   "source": [
    "<h1>Real Number</h1>"
   ]
  },
  {
   "cell_type": "code",
   "execution_count": 2,
   "metadata": {},
   "outputs": [
    {
     "name": "stdout",
     "output_type": "stream",
     "text": [
      "157.93\n",
      "-183.75\n",
      "5.0\n",
      "-0.7\n"
     ]
    }
   ],
   "source": [
    "a = 157.93\n",
    "print(a)\n",
    "\n",
    "a=-183.75\n",
    "print(a)\n",
    "\n",
    "a = 5.\n",
    "print(a)\n",
    "\n",
    "a=-.7\n",
    "print(a)"
   ]
  },
  {
   "cell_type": "markdown",
   "metadata": {},
   "source": [
    "<h1>Exponential expresion</h1>"
   ]
  },
  {
   "cell_type": "code",
   "execution_count": 3,
   "metadata": {},
   "outputs": [
    {
     "name": "stdout",
     "output_type": "stream",
     "text": [
      "1000000000.0\n",
      "752.5\n",
      "3.954\n"
     ]
    }
   ],
   "source": [
    "# 10억의 지수 표현 방식 (10^9 = 1*10^9)\n",
    "a = 1e9\n",
    "print(a)\n",
    "\n",
    "# 752.5\n",
    "a = 75.25e1\n",
    "print(a)\n",
    "\n",
    "# 3.954\n",
    "a = 3954e-3\n",
    "print(a)"
   ]
  },
  {
   "cell_type": "markdown",
   "metadata": {},
   "source": [
    "<h1>Floating-point</h1>"
   ]
  },
  {
   "cell_type": "code",
   "execution_count": 4,
   "metadata": {},
   "outputs": [
    {
     "name": "stdout",
     "output_type": "stream",
     "text": [
      "0.8999999999999999\n",
      "False\n"
     ]
    }
   ],
   "source": [
    "a = 0.3 + 0.6\n",
    "print(a)\n",
    "\n",
    "if a == 0.9:\n",
    "    print(True)\n",
    "else:\n",
    "    print(False)"
   ]
  },
  {
   "cell_type": "markdown",
   "metadata": {},
   "source": [
    "<h1>round() function</h1> <br>\n",
    "argument : (실수형 데이터, 반올림하고자 하는 위치 - 1)"
   ]
  },
  {
   "cell_type": "code",
   "execution_count": 9,
   "metadata": {},
   "outputs": [
    {
     "name": "stdout",
     "output_type": "stream",
     "text": [
      "123.46\n",
      "0.9\n",
      "True\n"
     ]
    }
   ],
   "source": [
    "# 123.456를 3번째 자리에서 반올림 = 123.46\n",
    "print(round(123.456,2))\n",
    "\n",
    "a = 0.3 + 0.6\n",
    "print(round(a,4))\n",
    "\n",
    "if round(a,4) == 0.9:\n",
    "    print(True)\n",
    "else:\n",
    "    print(False)"
   ]
  },
  {
   "cell_type": "markdown",
   "metadata": {},
   "source": [
    "<h1>Arithmetic Computation</h1>"
   ]
  },
  {
   "cell_type": "code",
   "execution_count": 11,
   "metadata": {},
   "outputs": [
    {
     "name": "stdout",
     "output_type": "stream",
     "text": [
      "2.3333333333333335\n",
      "1\n",
      "2\n",
      "343\n"
     ]
    }
   ],
   "source": [
    "a = 7\n",
    "b = 3\n",
    "\n",
    "# 나누기 (실수)\n",
    "print(a / b)\n",
    "\n",
    "# 나머지\n",
    "print(a % b)\n",
    "\n",
    "# 몫\n",
    "print(a // b)\n",
    "\n",
    "# 거듭제곱\n",
    "print(a ** b)\n"
   ]
  },
  {
   "cell_type": "markdown",
   "metadata": {},
   "source": [
    "<h1>List</h1>"
   ]
  },
  {
   "cell_type": "code",
   "execution_count": 14,
   "metadata": {},
   "outputs": [
    {
     "name": "stdout",
     "output_type": "stream",
     "text": [
      "[1, 2, 3, 4, 5, 6, 7, 8, 9]\n",
      "5\n",
      "[]\n",
      "[]\n",
      "[0, 0, 0, 0, 0, 0, 0, 0, 0, 0]\n"
     ]
    }
   ],
   "source": [
    "a = [1,2,3,4,5,6,7,8,9]\n",
    "print(a)\n",
    "\n",
    "# 5번쨰 원소 접근\n",
    "print(a[4])\n",
    "\n",
    "# 빈 리스트 생성\n",
    "\n",
    "a = list()\n",
    "print(a)\n",
    "\n",
    "# 빈 리스트 생성 2\n",
    "\n",
    "a = []\n",
    "print(a)\n",
    "\n",
    "# 크기가 N이고 모든 값이 0인 1차원 리스트 초기화\n",
    "\n",
    "n = 10\n",
    "a = [0] * 10\n",
    "print(a)"
   ]
  },
  {
   "cell_type": "markdown",
   "metadata": {},
   "source": [
    "<h1>List indexing</h1>"
   ]
  },
  {
   "cell_type": "code",
   "execution_count": 16,
   "metadata": {},
   "outputs": [
    {
     "name": "stdout",
     "output_type": "stream",
     "text": [
      "9\n",
      "7\n",
      "[1, 2, 3, 10, 5, 6, 7, 8, 9]\n"
     ]
    }
   ],
   "source": [
    "a = [1,2,3,4,5,6,7,8,9]\n",
    "\n",
    "# 뒤에서 첫 번째 원소 출력\n",
    "print(a[-1])\n",
    "\n",
    "# 뒤에서 세 번쨰 원소 출력\n",
    "print(a[-3])\n",
    "\n",
    "# 네 번째 원소 변경\n",
    "a[3] = 10\n",
    "print(a)"
   ]
  },
  {
   "cell_type": "markdown",
   "metadata": {},
   "source": [
    "<h1>List slicing</h1>"
   ]
  },
  {
   "cell_type": "code",
   "execution_count": 17,
   "metadata": {},
   "outputs": [
    {
     "name": "stdout",
     "output_type": "stream",
     "text": [
      "[2, 3, 4]\n"
     ]
    }
   ],
   "source": [
    "a = [1,2,3,4,5,6,7,8,9]\n",
    "\n",
    "# 두 번째 원소부터 4번쨰 원소까지\n",
    "print(a[1:4])"
   ]
  },
  {
   "cell_type": "markdown",
   "metadata": {},
   "source": [
    "<h1>List comprehension</h1>"
   ]
  },
  {
   "cell_type": "code",
   "execution_count": 27,
   "metadata": {},
   "outputs": [
    {
     "name": "stdout",
     "output_type": "stream",
     "text": [
      "[1, 3, 5, 7, 9, 11, 13, 15, 17, 19]\n",
      "[1, 3, 5, 7, 9, 11, 13, 15, 17, 19]\n",
      "[1, 4, 9, 16, 25, 36, 49, 64, 81]\n",
      "[[0, 0, 0, 0], [0, 0, 0, 0], [0, 0, 0, 0]]\n",
      "[[0, 0, 0, 0], [0, 0, 0, 0], [0, 0, 0, 0]]\n",
      "[[0, 5, 0, 0], [0, 5, 0, 0], [0, 5, 0, 0]]\n"
     ]
    }
   ],
   "source": [
    "# 0부터 19까지의 수 중에서 홀수만 포함하는 리스트 생성(초기화)\n",
    "\n",
    "# 일반적인 방법\n",
    "array =[]\n",
    "for i in range(20):\n",
    "    if i % 2 == 1:\n",
    "        array.append(i)\n",
    "print(array)\n",
    "\n",
    "# List comprehension 사용한 방법\n",
    "\n",
    "array = [i for i in range(20) if i % 2 == 1]\n",
    "print(array)\n",
    "\n",
    "# 1부터 9까지의 수의 제곱 값을 포함하는 리스트 생성\n",
    "\n",
    "array = [i*i for i in range(1,10)]\n",
    "print(array)\n",
    "\n",
    "# N * M 크기의 2차원 리스트 초기화 \n",
    "n = 3\n",
    "m = 4\n",
    "array = [[0] * m for _ in range(n)]\n",
    "print(array)\n",
    "\n",
    "# Tip. _(언더바)의 의미는 반복을 수행하되 반복을 위한 변수의 값(ex. i)를 무시하고자 할 때 사용\n",
    "\n",
    "# 2차원 리스트를 초기화하는데 List comprehension을 사용하지 않을 경우 발생하는 오류\n",
    "\n",
    "# N * M 크기의 2차원 리스트 초기화  (잘못된 방법)\n",
    "n = 3\n",
    "m = 4\n",
    "array = [[0] * m ] * n\n",
    "print(array)\n",
    "\n",
    "array[1][1] = 5\n",
    "print(array)\n",
    "\n",
    "# 내부적으로 포함된 3개의 리스트가 모두 동일한 객체에 대한 3개의 reference로 인식되기 때문에 발생"
   ]
  },
  {
   "cell_type": "markdown",
   "metadata": {},
   "source": [
    "<h1>List method</h1>\n",
    "\n",
    "1. append() : 리스트에 원소를 하나 삽입할 때 사용 -> 시간복잡도 O(1) <br>\n",
    "    ex. a.append(1)\n",
    "2. sort() : 기본 정렬 기능으로 오름차순으로 정렬 -> 시간복잡도 O(NlogN) <br>\n",
    "    ex. a.sort()                              오름차순 정렬 <br>\n",
    "    ex. a.sort(reverse = True)                내림차순 정렬 <br>\n",
    "3. reverse() : 리스트의 원소의 순서를 모두 뒤집기 -> 시간복잡도 O(N) <br>\n",
    "    ex. a.reverse()\n",
    "4. insert() : 특정한 인덱스 위치에 원소를 삽입할 때 사용 -> 시간복잡도 O(N) : 중간에 원소를 삽입하고 위치 조정하므로! <br>\n",
    "    ex. a.insert(삽입할 위치 인덱스, 삽입할 값)\n",
    "5. count() : 리스트에서 특정한 값을 가지는 데이터의 개수를 셀 때 사용 -> 시간복잡도 O(N) <br>\n",
    "    ex. a.count(특정 값)\n",
    "6. remove() : 특정한 값을 갖는 원소를 제거하는데, 값을 가진 원소가 여러개면 하나만 제거한다. -> 시간복잡도 O(N) : 리스트 중간에 있는 원소를 삭제 후 리스트의 원소 위치를 조정해야 하므로! <br>\n",
    "    ex. a.remove(특정 값\n"
   ]
  },
  {
   "cell_type": "code",
   "execution_count": 42,
   "metadata": {},
   "outputs": [
    {
     "name": "stdout",
     "output_type": "stream",
     "text": [
      "기본 리스트:  [1, 4, 3]\n",
      "[1, 4, 3, 2]\n",
      "오름차순 정렬:  [1, 2, 3, 4]\n",
      "내림차순 정렬:  [4, 3, 2, 1]\n",
      "원소 뒤집기:  [1, 2, 3, 4]\n",
      "인덱스 2에 데이터 7 추가:  [1, 2, 7, 3, 4]\n",
      "인덱스 4에 데이터 7 추가:  [1, 2, 7, 3, 7, 4]\n",
      "값이 7인 데이터 개수:  2\n",
      "값이 1인 데이터 삭제:  [2, 7, 3, 7, 4]\n",
      "값이 7인 데이터 삭제:  [2, 3, 7, 4]\n",
      "값이 7인 데이터 삭제:  [2, 3, 4]\n"
     ]
    }
   ],
   "source": [
    "a = [1,4,3]\n",
    "print(\"기본 리스트: \",a)\n",
    "\n",
    "# 리스트에 원소 삽입\n",
    "a.append(2)\n",
    "print(a)\n",
    "\n",
    "# 오름차순 정렬\n",
    "a.sort()\n",
    "print(\"오름차순 정렬: \",a)\n",
    "\n",
    "# 내림차순 정렬\n",
    "a.sort(reverse = True)\n",
    "print(\"내림차순 정렬: \",a)\n",
    "\n",
    "# 리스트 원소 뒤집기\n",
    "a.reverse()\n",
    "print(\"원소 뒤집기: \",a)\n",
    "\n",
    "# 특정 인덱스에 데이터 추가\n",
    "a.insert(2,7)\n",
    "print(\"인덱스 2에 데이터 7 추가: \",a)\n",
    "a.insert(4,7)\n",
    "print(\"인덱스 4에 데이터 7 추가: \",a)\n",
    "\n",
    "# 특정 값인 데이터 개수 세기\n",
    "print(\"값이 7인 데이터 개수: \",a.count(7))\n",
    "\n",
    "# 특정 값 데이터 삭제\n",
    "a.remove(1)\n",
    "print(\"값이 1인 데이터 삭제: \",a)\n",
    "a.remove(7)\n",
    "print(\"값이 7인 데이터 삭제: \",a) # 앞에 7 하나만 삭제 됨\n",
    "a.remove(7)\n",
    "print(\"값이 7인 데이터 삭제: \",a) # 마지막 남은 7 삭제 됨"
   ]
  },
  {
   "cell_type": "code",
   "execution_count": 43,
   "metadata": {},
   "outputs": [
    {
     "name": "stdout",
     "output_type": "stream",
     "text": [
      "[1, 2, 4]\n"
     ]
    }
   ],
   "source": [
    "# 특정한 값의 원소를 한꺼번에 모두 제거할 때 \n",
    "\n",
    "a =[1,2,3,4,5,5,5]\n",
    "remove_set={3,5}\n",
    "\n",
    "# remove_set에 포함되지 않은 값만을 저장\n",
    "result = [i for i in a if i not in remove_set]\n",
    "print(result)"
   ]
  },
  {
   "cell_type": "markdown",
   "metadata": {},
   "source": [
    "<h1>String</h1>"
   ]
  },
  {
   "cell_type": "code",
   "execution_count": 51,
   "metadata": {},
   "outputs": [
    {
     "name": "stdout",
     "output_type": "stream",
     "text": [
      "Hello world\n",
      "Don't you know \"PYTHON\"?\n",
      "hello world\n",
      "StringStringString\n",
      "CD\n"
     ]
    }
   ],
   "source": [
    "data = 'Hello world'\n",
    "print(data)\n",
    "\n",
    "data = \"Don't you know \\\"PYTHON\\\"?\"\n",
    "print(data)\n",
    "\n",
    "a = 'hello'\n",
    "b = 'world'\n",
    "print(a + \" \" + b)\n",
    "\n",
    "a = 'String'\n",
    "print(a*3)\n",
    "\n",
    "a = \"ABCDEF\"\n",
    "print(a[2:4])"
   ]
  },
  {
   "cell_type": "markdown",
   "metadata": {},
   "source": [
    "<h1>Tuple</h1> <br>\n",
    "\n",
    "- 튜플은 한 번 선언된 값을 변경할 수 없다\n",
    "- 리스트는 대괄호([])를 이용하지만, 튜플은 소괄호(())를 이용한다.\n",
    "- 그래프 알고리즘을 구현할 때 주로 사용\n",
    "- 리스트에 비해 상대적으로 공간 효율적이고, 일반적으로 각 원소의 성질이 서로 다를 때 주로 사용한다.\n",
    "- 다익스타 최단 경로 알고리즘과 같이 '비용'과 '노드번호'라는 서로 다른 성질의 데이터를 (비용, 노드 번호)의 형태로 함께 튜플로 묶어서 관리하는 것이 관례\n"
   ]
  },
  {
   "cell_type": "code",
   "execution_count": 54,
   "metadata": {},
   "outputs": [
    {
     "name": "stdout",
     "output_type": "stream",
     "text": [
      "(1, 2, 3, 4)\n"
     ]
    },
    {
     "ename": "TypeError",
     "evalue": "'tuple' object does not support item assignment",
     "output_type": "error",
     "traceback": [
      "\u001b[1;31m---------------------------------------------------------------------------\u001b[0m",
      "\u001b[1;31mTypeError\u001b[0m                                 Traceback (most recent call last)",
      "\u001b[1;32m<ipython-input-54-c004931ecb4c>\u001b[0m in \u001b[0;36m<module>\u001b[1;34m\u001b[0m\n\u001b[0;32m      2\u001b[0m \u001b[0mprint\u001b[0m\u001b[1;33m(\u001b[0m\u001b[0ma\u001b[0m\u001b[1;33m)\u001b[0m\u001b[1;33m\u001b[0m\u001b[1;33m\u001b[0m\u001b[0m\n\u001b[0;32m      3\u001b[0m \u001b[1;33m\u001b[0m\u001b[0m\n\u001b[1;32m----> 4\u001b[1;33m \u001b[0ma\u001b[0m\u001b[1;33m[\u001b[0m\u001b[1;36m2\u001b[0m\u001b[1;33m]\u001b[0m \u001b[1;33m=\u001b[0m \u001b[1;36m7\u001b[0m\u001b[1;33m\u001b[0m\u001b[1;33m\u001b[0m\u001b[0m\n\u001b[0m",
      "\u001b[1;31mTypeError\u001b[0m: 'tuple' object does not support item assignment"
     ]
    }
   ],
   "source": [
    "a = (1,2,3,4)\n",
    "print(a)\n",
    "\n",
    "a[2] = 7"
   ]
  },
  {
   "cell_type": "markdown",
   "metadata": {},
   "source": [
    "<h1>Dictionary</h1> <br>\n",
    "\n",
    "- 키(key)와 값(value)의 쌍을 데이터로 가지는 자료형\n",
    "- 파이썬의 사전 자료형은 내부적으로 '해시 태이블'을 이용하므로 기본적으로 데이터의 검색 및 수정에 있어서 O(1)의 시간에 처리할 수 있다.\n"
   ]
  },
  {
   "cell_type": "code",
   "execution_count": 55,
   "metadata": {},
   "outputs": [
    {
     "name": "stdout",
     "output_type": "stream",
     "text": [
      "{'사과': 'Apple', '바나나': 'Banana', '코코넛': 'Coconut'}\n"
     ]
    }
   ],
   "source": [
    "data = dict()\n",
    "data['사과'] = 'Apple'\n",
    "data['바나나'] = 'Banana'\n",
    "data['코코넛'] = 'Coconut'\n",
    "\n",
    "print(data)"
   ]
  },
  {
   "cell_type": "code",
   "execution_count": 1,
   "metadata": {},
   "outputs": [
    {
     "name": "stdout",
     "output_type": "stream",
     "text": [
      "'사과'를 키로 가지는 데이터가 존재합니다\n"
     ]
    }
   ],
   "source": [
    "# 사전 자료형에서 특정한 원소가 있는지 검사하는 경우\n",
    "\n",
    "data = dict()\n",
    "data['사과'] = 'Apple'\n",
    "data['바나나'] = 'Banana'\n",
    "data['코코넛'] = 'Coconut'\n",
    "\n",
    "if '사과' in data:\n",
    "    print(\"'사과'를 키로 가지는 데이터가 존재합니다\")"
   ]
  },
  {
   "cell_type": "code",
   "execution_count": 2,
   "metadata": {},
   "outputs": [
    {
     "name": "stdout",
     "output_type": "stream",
     "text": [
      "dict_keys(['사과', '바나나', '코코넛'])\n",
      "dict_values(['Apple', 'Banana', 'Coconut'])\n",
      "Apple\n",
      "Banana\n",
      "Coconut\n"
     ]
    }
   ],
   "source": [
    "# 사전 자료형 관련 함수\n",
    "\n",
    "data = dict()\n",
    "data['사과'] = 'Apple'\n",
    "data['바나나'] = 'Banana'\n",
    "data['코코넛'] = 'Coconut'\n",
    "\n",
    "# key 데이터만 담은 리스트\n",
    "key_list = data.keys()\n",
    "\n",
    "# value 데이터만 담은 리스트\n",
    "value_list = data.values()\n",
    "\n",
    "print(key_list)\n",
    "print(value_list)\n",
    "\n",
    "# 각 key에 따른 값을 하나씩 출력\n",
    "\n",
    "for key in key_list:\n",
    "    print(data[key])\n"
   ]
  },
  {
   "cell_type": "markdown",
   "metadata": {},
   "source": [
    "<h1>Set</h1> <br>\n",
    "\n",
    "- 중복을 허용하지 않는다\n",
    "- 순서가 없다\n",
    "- 리스트나 튜플은 순서가 있기 때문에 인덱싱을 통해 값을 얻을 수 있지만 사전 자료형과 집합 자료형은 순서가 없기 때문에 인덱싱으로 값을 얻을 수 없다\n",
    "- 특정 원소가 존재하는지를 검사하는 연산의 시간 복잡도는 O(1)이다\n",
    "- 특정한 데이터가 이미 등장한 적이 있는지 여부를 체크할 때 매우 효과적"
   ]
  },
  {
   "cell_type": "code",
   "execution_count": 4,
   "metadata": {},
   "outputs": [
    {
     "name": "stdout",
     "output_type": "stream",
     "text": [
      "{1, 2, 3, 4, 5}\n",
      "{1, 2, 3, 4, 5}\n",
      "{1, 2, 3, 4, 5, 6, 7}\n",
      "{3, 4, 5}\n",
      "{1, 2}\n"
     ]
    }
   ],
   "source": [
    "# 집합 자료형 초기화 방법 1\n",
    "data = set([1,1,2,3,4,4,5])\n",
    "print(data)\n",
    "\n",
    "# 집합 자료형 초기화 방법 2\n",
    "data = {1,1,2,3,4,4,5}\n",
    "print(data)\n",
    "\n",
    "a = set([1,2,3,4,5])\n",
    "b = set([3,4,5,6,7])\n",
    "\n",
    "print(a | b)    # 합집합\n",
    "print(a & b)    # 교집합\n",
    "print(a - b)    # 차집합"
   ]
  },
  {
   "cell_type": "code",
   "execution_count": 5,
   "metadata": {},
   "outputs": [
    {
     "name": "stdout",
     "output_type": "stream",
     "text": [
      "{1, 2, 3}\n",
      "{1, 2, 3, 4}\n",
      "{1, 2, 3, 4, 5, 6}\n",
      "{1, 2, 4, 5, 6}\n"
     ]
    }
   ],
   "source": [
    "# 집합 자료형 관련 함수\n",
    "\n",
    "data = set([1,2,3])\n",
    "print(data)\n",
    "\n",
    "# 새로운 원소 추가\n",
    "data.add(4)\n",
    "print(data)\n",
    "\n",
    "# 새로운 원소 여러 개 추가\n",
    "data.update([5,6])\n",
    "print(data)\n",
    "\n",
    "# 특정한 값을 갖는 원소 삭제\n",
    "data.remove(3)\n",
    "print(data)\n",
    "\n",
    "# add(), remove() 함수는 모두 시간 복잡도가 O(1)"
   ]
  },
  {
   "cell_type": "markdown",
   "metadata": {},
   "source": [
    "<h1>Conditional expression</h1>"
   ]
  },
  {
   "cell_type": "code",
   "execution_count": 7,
   "metadata": {},
   "outputs": [
    {
     "name": "stdout",
     "output_type": "stream",
     "text": [
      "Success\n"
     ]
    }
   ],
   "source": [
    "score = 85\n",
    "\n",
    "if score >= 80:\n",
    "    result = \"Success\"\n",
    "else:\n",
    "    result=\"Fail\"\n",
    "    \n",
    "### conditional expression을 사용하면 다음과 같다\n",
    "\n",
    "score = 85\n",
    "result = \"Success\" if score >= 80 else \"Fail\"\n",
    "print(result)"
   ]
  },
  {
   "cell_type": "code",
   "execution_count": 8,
   "metadata": {},
   "outputs": [
    {
     "name": "stdout",
     "output_type": "stream",
     "text": [
      "[1, 2, 4]\n",
      "[1, 2, 4]\n"
     ]
    }
   ],
   "source": [
    "a = [1,2,3,4,5,5,5]\n",
    "remove_set = {3,5}\n",
    "\n",
    "result = []\n",
    "for i in a:\n",
    "    if i not in remove_set:\n",
    "        result.append(i)\n",
    "\n",
    "print(result)\n",
    "\n",
    "### conditional expression을 사용하면 다음과 같다\n",
    "\n",
    "a = [1,2,3,4,5,5,5]\n",
    "remove_set = {3,5}\n",
    "\n",
    "result = [i for i in a if i not in remove_set]\n",
    "print(result)"
   ]
  },
  {
   "cell_type": "markdown",
   "metadata": {},
   "source": [
    "<h1>Function</h1>"
   ]
  },
  {
   "cell_type": "code",
   "execution_count": 9,
   "metadata": {},
   "outputs": [
    {
     "name": "stdout",
     "output_type": "stream",
     "text": [
      "10\n"
     ]
    }
   ],
   "source": [
    "a = 0\n",
    "\n",
    "def func():\n",
    "    global a    # global 키워드로 변수를 지정하면, 해당 함수에서는 지역 변수를 만들지 않고, 함수 바깥에 선언된 변수를 바로 참조\n",
    "    a += 1\n",
    "\n",
    "for i in range(10):\n",
    "    func()\n",
    "    \n",
    "print(a)"
   ]
  },
  {
   "cell_type": "code",
   "execution_count": 10,
   "metadata": {},
   "outputs": [
    {
     "name": "stdout",
     "output_type": "stream",
     "text": [
      "10\n",
      "10\n"
     ]
    }
   ],
   "source": [
    "# 람다 표현식\n",
    "\n",
    "def add(a,b):\n",
    "    return a+b\n",
    "\n",
    "# 일반적인 add() 메서드 사용\n",
    "print(add(3,7))\n",
    "\n",
    "# 람다 표현식으로 구현된 add() 메서드\n",
    "print((lambda a,b: a+b)(3,7))\n"
   ]
  },
  {
   "cell_type": "markdown",
   "metadata": {},
   "source": [
    "<h1>Input & Output</h1>"
   ]
  },
  {
   "cell_type": "markdown",
   "metadata": {},
   "source": [
    "입력을 위한 전형적인 소스코드"
   ]
  },
  {
   "cell_type": "code",
   "execution_count": 11,
   "metadata": {},
   "outputs": [
    {
     "name": "stdout",
     "output_type": "stream",
     "text": [
      "5\n",
      "65 90 75 34 99\n",
      "[99, 90, 75, 65, 34]\n"
     ]
    }
   ],
   "source": [
    "# 데이터의 개수 입력 \n",
    "n = int(input())\n",
    "\n",
    "# 각 데이터를 공백으로 구분하여 입력\n",
    "data = list(map(int,input().split()))\n",
    "\n",
    "data.sort(reverse = True)\n",
    "print(data)"
   ]
  },
  {
   "cell_type": "markdown",
   "metadata": {},
   "source": [
    "공백을 기준으로 구분하여 적은 수의 데이터 입력"
   ]
  },
  {
   "cell_type": "code",
   "execution_count": 12,
   "metadata": {},
   "outputs": [
    {
     "name": "stdout",
     "output_type": "stream",
     "text": [
      "1 2 3\n",
      "1 2 3\n"
     ]
    }
   ],
   "source": [
    "# n,m,k를 공백으로 구분하여 입력\n",
    "\n",
    "n,m,k = map(int, input().split())\n",
    "\n",
    "print(n,m,k)"
   ]
  },
  {
   "cell_type": "markdown",
   "metadata": {},
   "source": [
    "입력의 개수가 많은 경우 (공백으로 구분되어 입력되는 것이 아니라, 한 줄마다 입력되는 경우)"
   ]
  },
  {
   "cell_type": "code",
   "execution_count": 13,
   "metadata": {},
   "outputs": [
    {
     "data": {
      "text/plain": [
       "''"
      ]
     },
     "execution_count": 13,
     "metadata": {},
     "output_type": "execute_result"
    }
   ],
   "source": [
    "import sys\n",
    "sys.stdin.readline().rstrip()"
   ]
  },
  {
   "cell_type": "markdown",
   "metadata": {},
   "source": [
    "readline() 사용 소스코드 예시"
   ]
  },
  {
   "cell_type": "code",
   "execution_count": 15,
   "metadata": {},
   "outputs": [
    {
     "name": "stdout",
     "output_type": "stream",
     "text": [
      "\n"
     ]
    }
   ],
   "source": [
    "import sys\n",
    "\n",
    "# 문자열 입력받기\n",
    "data = sys.stdin.readline().rstrip()\n",
    "print(data)"
   ]
  },
  {
   "cell_type": "markdown",
   "metadata": {},
   "source": [
    "출력 줄 바꿈 예시"
   ]
  },
  {
   "cell_type": "code",
   "execution_count": 16,
   "metadata": {},
   "outputs": [
    {
     "name": "stdout",
     "output_type": "stream",
     "text": [
      "1\n",
      "2\n"
     ]
    }
   ],
   "source": [
    "a = 1\n",
    "b = 2\n",
    "\n",
    "print(a)\n",
    "print(b)"
   ]
  },
  {
   "cell_type": "markdown",
   "metadata": {},
   "source": [
    "변수를 문자열로 바꾸어 출력하는 소스코드 예시"
   ]
  },
  {
   "cell_type": "code",
   "execution_count": 18,
   "metadata": {},
   "outputs": [
    {
     "name": "stdout",
     "output_type": "stream",
     "text": [
      "정답은 7입니다\n"
     ]
    }
   ],
   "source": [
    "answer = 7\n",
    "print(\"정답은 \" + str(answer) + \"입니다\")"
   ]
  },
  {
   "cell_type": "markdown",
   "metadata": {},
   "source": [
    "각 변수를 콤마(,)로 구분하여 출력하는 소스코드 예시"
   ]
  },
  {
   "cell_type": "code",
   "execution_count": 19,
   "metadata": {},
   "outputs": [
    {
     "name": "stdout",
     "output_type": "stream",
     "text": [
      "정답은 7 입니다\n"
     ]
    }
   ],
   "source": [
    "answer = 7\n",
    "print(\"정답은\", str(answer), \"입니다\")"
   ]
  },
  {
   "cell_type": "markdown",
   "metadata": {},
   "source": [
    "f-string 문법"
   ]
  },
  {
   "cell_type": "code",
   "execution_count": 20,
   "metadata": {},
   "outputs": [
    {
     "name": "stdout",
     "output_type": "stream",
     "text": [
      "정답은 7입니다\n"
     ]
    }
   ],
   "source": [
    "# 문자열 앞에 f를 붙이고 중괄호({}) 안에 변수를 넣어 사용한다.\n",
    "\n",
    "answer = 7\n",
    "print(f\"정답은 {answer}입니다\")"
   ]
  },
  {
   "cell_type": "markdown",
   "metadata": {},
   "source": [
    "<h1>내장 함수</h1>"
   ]
  },
  {
   "cell_type": "code",
   "execution_count": 11,
   "metadata": {},
   "outputs": [
    {
     "name": "stdout",
     "output_type": "stream",
     "text": [
      "15\n",
      "1\n",
      "1\n",
      "56\n",
      "[1, 4, 5, 8, 9]\n",
      "[9, 8, 5, 4, 1]\n",
      "[('이순신', 75), ('아무개', 50), ('홍길동', 35)]\n",
      "[1, 2, 3, 6, 7]\n",
      "[3, 6, 7, 2, 1]\n",
      "[1, 2, 3, 6, 7]\n"
     ]
    }
   ],
   "source": [
    "# sum() : iterable 객체 (list, dict, tuple)가 입력으로 주어졌을 때 모든 원소들의 합을 반환\n",
    "\n",
    "result = sum([1,2,3,4,5])\n",
    "print(result)\n",
    "\n",
    "# min() : parameter가 2개이상 들어왔을 때 최소값 반환\n",
    "\n",
    "result = min(1,2,3,4)\n",
    "print(result)\n",
    "\n",
    "# max() : parameter가 2개이상 들어왔을 때 최대값 반환\n",
    "\n",
    "result = min(1,2,3,4)\n",
    "print(result)\n",
    "\n",
    "# eval() : 수학 수식이 문자열 형식으로 들어오면 해당 수식을 계산한 결과를 반환\n",
    "\n",
    "result = eval(\"(3+5)*7\")\n",
    "print(result)\n",
    "\n",
    "# sorted() : iterable 객체가 들어왔을 때, 정렬된 결과를 반환\n",
    "\n",
    "result = sorted([9,1,8,5,4])\n",
    "print(result)\n",
    "result = sorted([9,1,8,5,4], reverse = True)\n",
    "print(result)\n",
    "\n",
    "result = sorted([('홍길동',35), ('이순신',75), ('아무개', 50)], key = lambda x: x[1], reverse = True)\n",
    "print(result)\n",
    "\n",
    "# list의 경우 기본적으로 sort() 함수를 내장하고 있어서 굳이 sorted() 함수 사용안해도 됨\n",
    "\n",
    "data = [3,6,7,2,1]\n",
    "data.sort()                  # 리스트 객체의 내부 값이 정렬된 값으로 바로 변경\n",
    "print(data)\n",
    "\n",
    "data = [3,6,7,2,1]\n",
    "result = sorted(data)\n",
    "print(data)                  # 리스트 개체의 값은 그대로\n",
    "print(result)                # 새로운 객체에 정렬된 값이 저장"
   ]
  },
  {
   "cell_type": "markdown",
   "metadata": {},
   "source": [
    "<h1>itertools</h1> <br>\n",
    "파이썬에서 반복되는 데이터를 처리하는 기능을 포함하고 있는 라이브러리 <br><br>\n",
    "\n",
    "\n"
   ]
  },
  {
   "cell_type": "markdown",
   "metadata": {},
   "source": [
    "1. permutations\n",
    "- 리스트와 같은 iterable 객체에서 r개의 데이터를 뽑아 일렬로 나열하는 모든 경우(순열)을 계산\n",
    "- permutations는 클래스이므로 객체 초기화 이후에는 리스트 자료형으로 변화하여 사용"
   ]
  },
  {
   "cell_type": "code",
   "execution_count": 12,
   "metadata": {},
   "outputs": [
    {
     "name": "stdout",
     "output_type": "stream",
     "text": [
      "[('A', 'B', 'C'), ('A', 'C', 'B'), ('B', 'A', 'C'), ('B', 'C', 'A'), ('C', 'A', 'B'), ('C', 'B', 'A')]\n"
     ]
    }
   ],
   "source": [
    "# 리스트 ['A', 'B', 'C']에서 3개를 뽑아 나열하는 모든 경우를 출력\n",
    "\n",
    "from itertools import permutations\n",
    "\n",
    "data = ['A', 'B', 'C']\n",
    "result = list(permutations(data,3))\n",
    "print(result)"
   ]
  },
  {
   "cell_type": "markdown",
   "metadata": {},
   "source": [
    "2. combinations\n",
    "- 리스트와 같은 iterable 객체에서 r개의 데이터를 뽑아 순서를 고려하지 않고 나열하는 모든 경우(조합)을 계산\n",
    "- combinations는 클래스이므로 객체 초기화 이후에는 리스트 자료형으로 변화하여 사용"
   ]
  },
  {
   "cell_type": "code",
   "execution_count": 14,
   "metadata": {},
   "outputs": [
    {
     "name": "stdout",
     "output_type": "stream",
     "text": [
      "[('A', 'B'), ('A', 'C'), ('B', 'C')]\n"
     ]
    }
   ],
   "source": [
    "# 리스트 ['A', 'B', 'C']에서 2개를 뽑아 순서에 상관없이 나열하는 모든 경우를 출력\n",
    "\n",
    "from itertools import combinations\n",
    "\n",
    "data = ['A', 'B', 'C']\n",
    "result = list(combinations(data,2))\n",
    "print(result)"
   ]
  },
  {
   "cell_type": "markdown",
   "metadata": {},
   "source": [
    "3. product\n",
    "- permutations와 같이 리스트와 같은 iterable 객체에서 r개의 데이터를 뽑아 일렬로 나열하는 모든 경우(순열)를 계산, 다만 원소를 중복하여 뽑는다\n",
    "- product 객체를 초기화할 때는 뽑고자 하는 데이터의 수를 repeat 속성값으로 넣어준다.\n",
    "- product는 클래스이므로 객체 초기화 이후에는 리스트 자료형으로 변환하여 사용"
   ]
  },
  {
   "cell_type": "code",
   "execution_count": 16,
   "metadata": {},
   "outputs": [
    {
     "name": "stdout",
     "output_type": "stream",
     "text": [
      "[('A', 'A'), ('A', 'B'), ('A', 'C'), ('B', 'A'), ('B', 'B'), ('B', 'C'), ('C', 'A'), ('C', 'B'), ('C', 'C')]\n"
     ]
    }
   ],
   "source": [
    "# 리스트 ['A', 'B', 'C']에서 중복을 포함하여 2개를 뽑아 나열하는 모든 경우를 출력\n",
    "\n",
    "from itertools import product\n",
    "\n",
    "data = ['A', 'B', 'C']\n",
    "result = list(product(data,repeat = 2))\n",
    "print(result)"
   ]
  },
  {
   "cell_type": "markdown",
   "metadata": {},
   "source": [
    "4. combinations_with_replacement\n",
    "- combinatins와 같이 리스트와 같은 iterable 객체에서 r개의 데이터를 뽑아 순서를 고러하지 않고 나열하는 모든 경우(조합)를 계산, 다만 원소를 중복하여 뽑늗다.\n",
    "- combinations_with_replacement는 클래스이므로 객체 초기화 이후에는 리스트 자료형으로 변환하여 사용"
   ]
  },
  {
   "cell_type": "code",
   "execution_count": 17,
   "metadata": {},
   "outputs": [
    {
     "name": "stdout",
     "output_type": "stream",
     "text": [
      "[('A', 'A'), ('A', 'B'), ('A', 'C'), ('B', 'B'), ('B', 'C'), ('C', 'C')]\n"
     ]
    }
   ],
   "source": [
    "# 리스트 ['A', 'B', 'C']에서 중복을 포함하여 2개를 뽑아 순서에 상관없이 나열하는 모든 경우를 출력\n",
    "\n",
    "from itertools import combinations_with_replacement\n",
    "\n",
    "data = ['A', 'B', 'C']\n",
    "result = list(combinations_with_replacement(data,2))\n",
    "print(result)"
   ]
  },
  {
   "cell_type": "markdown",
   "metadata": {},
   "source": [
    "<h1>heapq</h1>\n",
    "\n",
    "- 파이썬에서는 힙(heap)의 기능을 위해 heapq 라이브러리를 제공\n",
    "- 다익스트라 최단 경로 알고리즘을 포함한 다양한 알고리즘에서 우선순위 큐 기능을 구현하고자 할 때 사용\n",
    "- 파이썬의 힙은 최소 힙(Min heap)으로 구성되어 있으므로 단순히 원소를 힙에 전부 넣었다가 빼는 것만으로도 시간 복잡도 O(NlogN)에 오름차순 정렬이 완료된다.\n",
    "- 힙에 원소를 삽입할때는 heapq.heappush(), 힙에서 원소를 꺼내고자 할때는 heapq.heappop()"
   ]
  },
  {
   "cell_type": "code",
   "execution_count": 1,
   "metadata": {},
   "outputs": [
    {
     "name": "stdout",
     "output_type": "stream",
     "text": [
      "[0, 1, 2, 3, 4, 5, 6, 7, 8, 9]\n"
     ]
    }
   ],
   "source": [
    "import heapq\n",
    "\n",
    "def heapsort(iterable):\n",
    "    h = []\n",
    "    result = []\n",
    "    # 모든 원소를 차례대로 힙에 삽입\n",
    "    for value in iterable:\n",
    "        heapq.heappush(h, value)\n",
    "    # 힙에 삽입된 모든 원소를 차례대로 꺼내어 담기\n",
    "    for i in range(len(h)):\n",
    "        result.append(heapq.heappop(h))\n",
    "    return result\n",
    "\n",
    "result = heapsort([1,3,5,7,9,2,4,6,8,0])\n",
    "print(result)"
   ]
  },
  {
   "cell_type": "code",
   "execution_count": 2,
   "metadata": {},
   "outputs": [
    {
     "name": "stdout",
     "output_type": "stream",
     "text": [
      "[9, 8, 7, 6, 5, 4, 3, 2, 1, 0]\n"
     ]
    }
   ],
   "source": [
    "# 파이썬에서는 최대 힙 (Max heap)을 제공하지 않으므로 최대 힙을 구현해야 할 때는 원소의 부호를 임시로 변경하는 방식을 사용\n",
    "\n",
    "import heapq\n",
    "\n",
    "def heapsort(iterable):\n",
    "    h = []\n",
    "    result = []\n",
    "    # 모든 원소를 차례대로 힙에 삽입\n",
    "    for value in iterable:\n",
    "        heapq.heappush(h, -value)         # 원소 부호 변경\n",
    "    # 힙에 삽입된 모든 원소를 차례대로 꺼내어 담기\n",
    "    for i in range(len(h)):\n",
    "        result.append(-heapq.heappop(h))  # 다시 원소 부호 변경해서 원래 원소 값으로 저장\n",
    "    return result\n",
    "\n",
    "result = heapsort([1,3,5,7,9,2,4,6,8,0])\n",
    "print(result)"
   ]
  },
  {
   "cell_type": "markdown",
   "metadata": {},
   "source": [
    "<h1>bisect</h1>\n",
    "\n",
    "- 파이썬에서는 이진 탐색을 쉽게 구현할 수 있도록 bisect 라이브러리를 제공\n",
    "- '정렬된 배열'에서 특정한 원소를 찾아야 할 때 효과적으로 사용\n",
    "- bisect_left(a,x) : 정렬된 순서를 유지하면서 리스트 a에 데이터 x를 삽입할 가장 왼쪽 인덱스를 찾는 메서드\n",
    "- bisect_right(a,x) : 정렬된 순서를 유지하도록 리스트 a에 데이터 x를 삽입할 가장 오른쪽 인덱스를 찾는 메서드\n",
    "- 위 2가지 메서드 모두 시간복잡도 O(logN)에 동작"
   ]
  },
  {
   "cell_type": "code",
   "execution_count": 3,
   "metadata": {},
   "outputs": [
    {
     "name": "stdout",
     "output_type": "stream",
     "text": [
      "2\n",
      "4\n"
     ]
    }
   ],
   "source": [
    "# 정렬된 리스트 [1,2,4,4,8] 에 새롭게 데이터 4를 삽입하는 경우\n",
    "\n",
    "from bisect import bisect_left, bisect_right\n",
    "\n",
    "a = [1,2,4,4,8]\n",
    "x = 4\n",
    "\n",
    "print(bisect_left(a,x))\n",
    "print(bisect_right(a,x))"
   ]
  },
  {
   "cell_type": "code",
   "execution_count": 5,
   "metadata": {},
   "outputs": [
    {
     "name": "stdout",
     "output_type": "stream",
     "text": [
      "2\n",
      "6\n"
     ]
    }
   ],
   "source": [
    "# 정렬된 리스트에서 값이 특정 범위에 속하는 원소의 개수를 구하는 함수\n",
    "\n",
    "from bisect import bisect_left, bisect_right\n",
    "\n",
    "# 값이 [left_value, right_value]인 데이터의 개수를 반환하는 함수\n",
    "def count_by_range(a,left_value, right_value):\n",
    "    right_index = bisect_right(a,right_value)\n",
    "    left_index = bisect_left(a, left_value)\n",
    "    return right_index - left_index\n",
    "\n",
    "a = [1,2,3,3,3,3,4,4,8,9]\n",
    "\n",
    "print(count_by_range(a,4,4))             # 값이 4인 데이터 개수 출력\n",
    "\n",
    "print(count_by_range(a,-1,3))            # 값이 [-1,3]인 데이터 개수 출력"
   ]
  },
  {
   "cell_type": "markdown",
   "metadata": {},
   "source": [
    "<h1>collections</h1>\n",
    "\n",
    "- 파이썬의 collections 라이브러리는 유용한 자료구조를 제공하는 표준 라이브러리\n",
    "- 코테에서 주로 사용되는 클래스는 deque와 Counter"
   ]
  },
  {
   "cell_type": "markdown",
   "metadata": {},
   "source": [
    "deque\n",
    "- 파이썬에서는 deque를 사용해 큐를 구현\n",
    "- deque에서는 리스트 자료형과 다르게 인덱싱, 슬라이싱 등의 기능을 사용할 수 없다\n",
    "- 다만, 연속적으로 나열된 데이터의 시작 부분이나 끝부분에 데이터를 삽입하거나 삭제할 때는 매우 효과적\n",
    "- deque는 스택 혹은 큐 자료구조의 대용\n",
    "- 첫 번째 원소를 제거할 때 popleft(), 마지막 원소를 제거할 때 pop()\n",
    "- 첫 번재 인덱스에 원소 x를 삽입할 때 appendleft(x), 마지막 인덱스에 원소를 삽입할 때 append(x)\n",
    "- 따라서 deque를 큐 자료구조로 사용할 때, 원소를 삽입할 때는 append(), 원소를 삭제할 때는 popleft()를 사용하면 FIFO 구조 완성!"
   ]
  },
  {
   "cell_type": "markdown",
   "metadata": {},
   "source": [
    "||list|deque|\n",
    "|------|---|---|\n",
    "|가장 앞쪽에 원소 추가|O(N)|O(1)|\n",
    "|가장 뒤쪽에 원소 추가|O(1)|O(!)|\n",
    "|가장 앞쪽에 있는 원소 제거|O(N)|O(1)|\n",
    "|가장 뒤쪽에 있는 원소 제거|O(1)|O(1)|"
   ]
  },
  {
   "cell_type": "code",
   "execution_count": 8,
   "metadata": {},
   "outputs": [
    {
     "name": "stdout",
     "output_type": "stream",
     "text": [
      "deque([1, 2, 3, 4, 5])\n",
      "[1, 2, 3, 4, 5]\n"
     ]
    }
   ],
   "source": [
    "from collections import deque\n",
    "\n",
    "data = deque([2,3,4])\n",
    "data.appendleft(1)\n",
    "data.append(5)\n",
    "\n",
    "print(data)\n",
    "print(list(data))"
   ]
  },
  {
   "cell_type": "markdown",
   "metadata": {},
   "source": [
    "Counter\n",
    "- 등장 횟수를 세는 기능을 제공\n",
    "- 리스트와 같은 iterable 객체가 주어졌을 때, 해당 객체 내부의 원소가 몇 번씩 등장했는지를 알려줌"
   ]
  },
  {
   "cell_type": "code",
   "execution_count": 9,
   "metadata": {},
   "outputs": [
    {
     "name": "stdout",
     "output_type": "stream",
     "text": [
      "3\n",
      "2\n",
      "1\n",
      "{'red': 2, 'blue': 3, 'green': 1}\n"
     ]
    }
   ],
   "source": [
    "from collections import Counter\n",
    "\n",
    "counter = Counter(['red','blue','red','green','blue','blue'])\n",
    "\n",
    "print(counter['blue'])\n",
    "print(counter['red'])\n",
    "print(counter['green'])\n",
    "\n",
    "print(dict(counter))"
   ]
  },
  {
   "cell_type": "markdown",
   "metadata": {},
   "source": [
    "<h1>math</h1>\n",
    "\n",
    "- 자주 사용되는 수학적인 기능을 포함하고 있는 라이브러리\n",
    "- 팩토리얼, 제곱근, 최대공약수(GCD) 등을 계산해주는 기능을 포함"
   ]
  },
  {
   "cell_type": "code",
   "execution_count": 21,
   "metadata": {},
   "outputs": [
    {
     "name": "stdout",
     "output_type": "stream",
     "text": [
      "120\n",
      "2.6457513110645907\n",
      "7\n",
      "3.141592653589793\n",
      "2.718281828459045\n"
     ]
    }
   ],
   "source": [
    "import math\n",
    "\n",
    "print(math.factorial(5))\n",
    "print(math.sqrt(7))\n",
    "print(math.gcd(21,14))\n",
    "print(math.pi)\n",
    "print(math.e)"
   ]
  }
 ],
 "metadata": {
  "kernelspec": {
   "display_name": "Python 3",
   "language": "python",
   "name": "python3"
  },
  "language_info": {
   "codemirror_mode": {
    "name": "ipython",
    "version": 3
   },
   "file_extension": ".py",
   "mimetype": "text/x-python",
   "name": "python",
   "nbconvert_exporter": "python",
   "pygments_lexer": "ipython3",
   "version": "3.6.12"
  }
 },
 "nbformat": 4,
 "nbformat_minor": 4
}
